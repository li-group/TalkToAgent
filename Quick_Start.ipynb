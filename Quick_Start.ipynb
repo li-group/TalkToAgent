{
 "cells": [
  {
   "cell_type": "markdown",
   "metadata": {},
   "source": [
    "# pc-gym Quick Start Guide\n",
    "\n",
    "Example of implementing a RL policy to a CSTR\n"
   ]
  },
  {
   "cell_type": "markdown",
   "metadata": {},
   "source": [
    "## Libraries"
   ]
  },
  {
   "cell_type": "code",
   "execution_count": 1,
   "metadata": {
    "ExecuteTime": {
     "end_time": "2025-04-20T16:26:33.145300Z",
     "start_time": "2025-04-20T16:26:30.717947Z"
    }
   },
   "outputs": [],
   "source": [
    "from dataclasses import dataclass\n",
    "import numpy as np \n",
    "import torch\n",
    "import matplotlib.pyplot as plt \n",
    "import gymnasium as gym\n",
    "import torch.nn.functional as F\n",
    "import copy\n",
    "from stable_baselines3 import PPO,SAC\n",
    "from pcgym import make_env\n",
    "import jax.numpy as jnp\n",
    "#Global params\n",
    "T = 26\n",
    "nsteps = 100"
   ]
  },
  {
   "cell_type": "markdown",
   "metadata": {},
   "source": [
    "# CSTR \n",
    "\n",
    "The CSTR performs the reaction A -> B. The model has states: Ca and T which are the concentration of species A and the temperature in the reactor, and controls: Tc which is the temperature of the cooling jacket.\n",
    "\n",
    "First, we define an environment with a dictionary:"
   ]
  },
  {
   "cell_type": "code",
   "execution_count": 2,
   "metadata": {
    "ExecuteTime": {
     "end_time": "2025-04-20T16:26:33.366861Z",
     "start_time": "2025-04-20T16:26:33.146362Z"
    }
   },
   "outputs": [
    {
     "name": "stderr",
     "output_type": "stream",
     "text": [
      "/opt/homebrew/Caskroom/miniforge/base/envs/XRL2/lib/python3.10/site-packages/gymnasium/spaces/box.py:235: UserWarning: \u001B[33mWARN: Box low's precision lowered by casting to float32, current low.dtype=float64\u001B[0m\n",
      "  gym.logger.warn(\n",
      "/opt/homebrew/Caskroom/miniforge/base/envs/XRL2/lib/python3.10/site-packages/gymnasium/spaces/box.py:305: UserWarning: \u001B[33mWARN: Box high's precision lowered by casting to float32, current high.dtype=float64\u001B[0m\n",
      "  gym.logger.warn(\n"
     ]
    },
    {
     "ename": "TypeError",
     "evalue": "'NoneType' object is not callable",
     "output_type": "error",
     "traceback": [
      "\u001B[0;31m---------------------------------------------------------------------------\u001B[0m",
      "\u001B[0;31mTypeError\u001B[0m                                 Traceback (most recent call last)",
      "Cell \u001B[0;32mIn[2], line 20\u001B[0m\n\u001B[1;32m      9\u001B[0m env_params \u001B[38;5;241m=\u001B[39m {\n\u001B[1;32m     10\u001B[0m     \u001B[38;5;124m'\u001B[39m\u001B[38;5;124mN\u001B[39m\u001B[38;5;124m'\u001B[39m: nsteps, \u001B[38;5;66;03m# Number of time steps\u001B[39;00m\n\u001B[1;32m     11\u001B[0m     \u001B[38;5;124m'\u001B[39m\u001B[38;5;124mtsim\u001B[39m\u001B[38;5;124m'\u001B[39m:T, \u001B[38;5;66;03m# Simulation Time\u001B[39;00m\n\u001B[0;32m   (...)\u001B[0m\n\u001B[1;32m     16\u001B[0m     \u001B[38;5;124m'\u001B[39m\u001B[38;5;124mmodel\u001B[39m\u001B[38;5;124m'\u001B[39m: \u001B[38;5;124m'\u001B[39m\u001B[38;5;124mcstr\u001B[39m\u001B[38;5;124m'\u001B[39m, \u001B[38;5;66;03m# Select the model\u001B[39;00m\n\u001B[1;32m     17\u001B[0m }\n\u001B[1;32m     19\u001B[0m \u001B[38;5;66;03m# Create environment\u001B[39;00m\n\u001B[0;32m---> 20\u001B[0m env \u001B[38;5;241m=\u001B[39m \u001B[43mmake_env\u001B[49m\u001B[43m(\u001B[49m\u001B[43menv_params\u001B[49m\u001B[43m)\u001B[49m\n",
      "File \u001B[0;32m/opt/homebrew/Caskroom/miniforge/base/envs/XRL2/lib/python3.10/site-packages/pcgym/pcgym.py:102\u001B[0m, in \u001B[0;36mmake_env.__init__\u001B[0;34m(self, env_params)\u001B[0m\n\u001B[1;32m    100\u001B[0m \u001B[38;5;28;01melse\u001B[39;00m:\n\u001B[1;32m    101\u001B[0m     m \u001B[38;5;241m=\u001B[39m model_mapping\u001B[38;5;241m.\u001B[39mget(env_params[\u001B[38;5;124m\"\u001B[39m\u001B[38;5;124mmodel\u001B[39m\u001B[38;5;124m\"\u001B[39m], \u001B[38;5;28;01mNone\u001B[39;00m)\n\u001B[0;32m--> 102\u001B[0m \u001B[38;5;28mself\u001B[39m\u001B[38;5;241m.\u001B[39mmodel \u001B[38;5;241m=\u001B[39m \u001B[43mm\u001B[49m\u001B[43m(\u001B[49m\n\u001B[1;32m    103\u001B[0m \u001B[43m    \u001B[49m\u001B[43mint_method\u001B[49m\u001B[38;5;241;43m=\u001B[39;49m\u001B[38;5;28;43mself\u001B[39;49m\u001B[38;5;241;43m.\u001B[39;49m\u001B[43mintegration_method\u001B[49m\n\u001B[1;32m    104\u001B[0m \u001B[43m\u001B[49m\u001B[43m)\u001B[49m  \u001B[38;5;66;03m# Initialise the model with the selected integration method\u001B[39;00m\n\u001B[1;32m    106\u001B[0m \u001B[38;5;66;03m# Handle the case where the model is not found (do this for all)\u001B[39;00m\n\u001B[1;32m    107\u001B[0m \u001B[38;5;28;01mif\u001B[39;00m \u001B[38;5;28mself\u001B[39m\u001B[38;5;241m.\u001B[39mmodel \u001B[38;5;129;01mis\u001B[39;00m \u001B[38;5;28;01mNone\u001B[39;00m:\n",
      "\u001B[0;31mTypeError\u001B[0m: 'NoneType' object is not callable"
     ]
    }
   ],
   "source": [
    "# Setpoint\n",
    "SP = {'Ca': [0.85 for i in range(int(nsteps/2))] + [0.9 for i in range(int(nsteps/2))]} \n",
    "\n",
    "# Action and Observation Space\n",
    "action_space = {'low': np.array([295]), 'high': np.array([302])}\n",
    "observation_space = {'low': np.array([0.7,300,0.8]),'high': np.array([1,350,0.9])}\n",
    "\n",
    "# Construct the environment parameter dictionary\n",
    "env_params = {\n",
    "    'N': nsteps, # Number of time steps\n",
    "    'tsim':T, # Simulation Time\n",
    "    'SP' :SP, \n",
    "    'o_space' : observation_space, \n",
    "    'a_space' : action_space, \n",
    "    'x0': np.array([0.8,330,0.8]), # Initial conditions [Ca, T, Ca_SP]\n",
    "    'model': 'cstr', # Select the model\n",
    "}\n",
    "\n",
    "# Create environment\n",
    "env = make_env(env_params)\n"
   ]
  },
  {
   "cell_type": "markdown",
   "metadata": {},
   "source": [
    "Load a pretrained SAC agent."
   ]
  },
  {
   "cell_type": "code",
   "execution_count": null,
   "metadata": {
    "ExecuteTime": {
     "end_time": "2025-04-20T16:26:33.367677Z",
     "start_time": "2025-04-20T16:26:33.367618Z"
    }
   },
   "outputs": [],
   "source": [
    "# Load a pre-trained policy\n",
    "initial_policy = SAC.load('SAC_cstr.zip')"
   ]
  },
  {
   "cell_type": "markdown",
   "metadata": {},
   "source": [
    "Plot a rollout with a comparison to the an oracle (MPC with perfect model) controller."
   ]
  },
  {
   "cell_type": "code",
   "execution_count": null,
   "metadata": {},
   "outputs": [],
   "source": [
    "# Plot a rollout with a oracle and a reward distribution\n",
    "env.plot_rollout(initial_policy, reps= 1, oracle = True, dist_reward=True, MPC_params={'N': 10, 'R': 0.001})"
   ]
  }
 ],
 "metadata": {
  "kernelspec": {
   "display_name": "Python 3",
   "language": "python",
   "name": "python3"
  },
  "language_info": {
   "codemirror_mode": {
    "name": "ipython",
    "version": 3
   },
   "file_extension": ".py",
   "mimetype": "text/x-python",
   "name": "python",
   "nbconvert_exporter": "python",
   "pygments_lexer": "ipython3",
   "version": "3.11.8"
  }
 },
 "nbformat": 4,
 "nbformat_minor": 2
}
